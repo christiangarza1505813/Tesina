{
  "nbformat": 4,
  "nbformat_minor": 0,
  "metadata": {
    "colab": {
      "provenance": [],
      "authorship_tag": "ABX9TyPMEiRL8g0yMLtZvUrYsPHo",
      "include_colab_link": true
    },
    "kernelspec": {
      "name": "python3",
      "display_name": "Python 3"
    },
    "language_info": {
      "name": "python"
    }
  },
  "cells": [
    {
      "cell_type": "markdown",
      "metadata": {
        "id": "view-in-github",
        "colab_type": "text"
      },
      "source": [
        "<a href=\"https://colab.research.google.com/github/christiangarza1505813/Tesina/blob/main/Model/model.ipynb\" target=\"_parent\"><img src=\"https://colab.research.google.com/assets/colab-badge.svg\" alt=\"Open In Colab\"/></a>"
      ]
    },
    {
      "cell_type": "code",
      "execution_count": 3,
      "metadata": {
        "id": "0Dy5LthbNOz4"
      },
      "outputs": [],
      "source": [
        "!pip -q install pandas pyarrow scikit-learn joblib\n",
        "\n",
        "import io, os, textwrap, joblib, numpy as np, pandas as pd\n",
        "from sklearn.model_selection import train_test_split, StratifiedKFold, cross_val_score\n",
        "from sklearn.compose import ColumnTransformer\n",
        "from sklearn.pipeline import Pipeline\n",
        "from sklearn.impute import SimpleImputer\n",
        "from sklearn.preprocessing import OneHotEncoder, StandardScaler\n",
        "from sklearn.ensemble import RandomForestClassifier, RandomForestRegressor\n",
        "from sklearn.metrics import accuracy_score, f1_score, roc_auc_score, mean_absolute_error, mean_squared_error\n"
      ]
    },
    {
      "cell_type": "code",
      "source": [
        "CSV_URL = \"https://raw.githubusercontent.com/christiangarza1505813/Tesina/main/Datos/user_clasification.csv\"  # <-- reemplaza\n",
        "\n",
        "df = pd.read_csv(\n",
        "    CSV_URL,\n",
        ")"
      ],
      "metadata": {
        "id": "xrG2HneCPQ-k"
      },
      "execution_count": 7,
      "outputs": []
    },
    {
      "cell_type": "code",
      "source": [
        "df['YMD'] = pd.to_datetime(df['YMD'])\n",
        "df_sorted = df.sort_values(by=['AccountUuid', 'YMD'])\n",
        "df = df_sorted.drop_duplicates(subset=['AccountUuid'], keep='first')"
      ],
      "metadata": {
        "id": "uBXG22nePxuW"
      },
      "execution_count": 24,
      "outputs": []
    },
    {
      "cell_type": "code",
      "source": [],
      "metadata": {
        "colab": {
          "base_uri": "https://localhost:8080/"
        },
        "id": "vGLexZ5oQcvE",
        "outputId": "f24f70c9-3794-4719-9cf6-c001f2498735"
      },
      "execution_count": 22,
      "outputs": [
        {
          "output_type": "execute_result",
          "data": {
            "text/plain": [
              "67678"
            ]
          },
          "metadata": {},
          "execution_count": 22
        }
      ]
    },
    {
      "cell_type": "code",
      "source": [],
      "metadata": {
        "id": "v7Bh__PFQ4RN"
      },
      "execution_count": 19,
      "outputs": []
    }
  ]
}